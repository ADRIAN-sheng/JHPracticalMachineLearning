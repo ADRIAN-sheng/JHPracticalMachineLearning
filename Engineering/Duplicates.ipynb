{
  "nbformat": 4,
  "nbformat_minor": 0,
  "metadata": {
    "colab": {
      "provenance": []
    },
    "kernelspec": {
      "name": "python3",
      "display_name": "Python 3"
    },
    "language_info": {
      "name": "python"
    }
  },
  "cells": [
    {
      "cell_type": "markdown",
      "source": [
        "#**Duplicates**\n",
        "\n",
        "Explanation:\n",
        "- df.duplicated(): This function returns a boolean Series indicating whether each row is a duplicate or not. By default, it considers all columns.\n",
        "sum(): Counts the number of True values in the Series returned by df.duplicated(), which corresponds to the number of duplicate rows.\n",
        "- df.drop_duplicates(): Removes the duplicate rows from the DataFrame. By default, it keeps the first occurrence of each duplicate row and removes the subsequent ones.\n",
        "\n",
        "Using this approach, you can clean your dataset by removing any rows that are exact duplicates across all columns, ensuring that each data entry in your DataFrame is unique. This is an essential step in data preprocessing, especially before feeding the data into a machine learning model."
      ],
      "metadata": {
        "id": "pceO9sIfxtV1"
      }
    },
    {
      "cell_type": "code",
      "execution_count": null,
      "metadata": {
        "colab": {
          "base_uri": "https://localhost:8080/"
        },
        "id": "P79hDlCjxsGB",
        "outputId": "f07379bb-8dd7-473f-b404-c70339901bc6"
      },
      "outputs": [
        {
          "output_type": "stream",
          "name": "stdout",
          "text": [
            "Number of duplicate rows: 0\n",
            "No duplicates found.\n",
            "DataFrame shape after removing duplicates: (1309, 13)\n"
          ]
        }
      ],
      "source": [
        "import pandas as pd\n",
        "from sklearn.datasets import fetch_openml\n",
        "import warnings\n",
        "\n",
        "# Suppress all warnings\n",
        "warnings.filterwarnings('ignore')\n",
        "\n",
        "# Load the Titanic dataset\n",
        "titanic = fetch_openml('titanic', version=1, as_frame=True)\n",
        "df = titanic.data\n",
        "\n",
        "# Check the number of duplicates\n",
        "num_duplicates = df.duplicated().sum()\n",
        "print(f\"Number of duplicate rows: {num_duplicates}\")\n",
        "\n",
        "# If duplicates exist, remove them\n",
        "if num_duplicates > 0:\n",
        "    df = df.drop_duplicates()\n",
        "    print(\"Duplicates removed.\")\n",
        "else:\n",
        "    print(\"No duplicates found.\")\n",
        "\n",
        "# Optionally, check the shape of the DataFrame after removing duplicates\n",
        "print(f\"DataFrame shape after removing duplicates: {df.shape}\")\n"
      ]
    }
  ]
}