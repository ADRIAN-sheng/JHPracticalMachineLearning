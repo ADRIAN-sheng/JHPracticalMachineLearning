{
  "nbformat": 4,
  "nbformat_minor": 0,
  "metadata": {
    "colab": {
      "provenance": []
    },
    "kernelspec": {
      "name": "python3",
      "display_name": "Python 3"
    },
    "language_info": {
      "name": "python"
    }
  },
  "cells": [
    {
      "cell_type": "markdown",
      "source": [
        "#**k-Fold Cross Validation**\n",
        "\n",
        "Explanation:\n",
        "- load_iris: Loads the Iris dataset.\n",
        "- RandomForestClassifier: Initializes a RandomForestClassifier. You can replace this with any other classifier.\n",
        "- cross_val_score: This function performs cross-validation. The cv parameter determines the number of folds; here, it's set to 5, meaning the dataset is divided into 5 parts, with each part used once as a validation while the other 4 serve as training data. This process is repeated 5 times.\n",
        "- scores: The array of scores of the estimator for each run of the cross-validation.\n",
        "\n",
        "The output will give you the accuracy of the classifier for each fold of cross-validation and the mean accuracy across all folds, providing a comprehensive view of the model's performance."
      ],
      "metadata": {
        "id": "WiX-XwbPqI3S"
      }
    },
    {
      "cell_type": "code",
      "execution_count": null,
      "metadata": {
        "colab": {
          "base_uri": "https://localhost:8080/"
        },
        "id": "-yvxkLaRqFsZ",
        "outputId": "90c8fff9-4164-43b2-d84c-a6441a0f8a8c"
      },
      "outputs": [
        {
          "output_type": "stream",
          "name": "stdout",
          "text": [
            "Accuracy for each fold:\n",
            "[0.96666667 0.96666667 0.93333333 0.96666667 1.        ]\n",
            "\n",
            "Mean accuracy across all folds:\n",
            "0.9666666666666668\n"
          ]
        }
      ],
      "source": [
        "from sklearn.datasets import load_iris\n",
        "from sklearn.ensemble import RandomForestClassifier\n",
        "from sklearn.model_selection import cross_val_score\n",
        "\n",
        "# Load the Iris dataset\n",
        "iris = load_iris()\n",
        "X = iris.data\n",
        "y = iris.target\n",
        "\n",
        "# Initialize the classifier\n",
        "clf = RandomForestClassifier(random_state=42)\n",
        "\n",
        "# Perform cross-validation\n",
        "scores = cross_val_score(clf, X, y, cv=5)  # cv=5 specifies 5-fold cross-validation\n",
        "\n",
        "# Print the accuracy for each fold\n",
        "print(\"Accuracy for each fold:\")\n",
        "print(scores)\n",
        "\n",
        "# Print the mean accuracy across all folds\n",
        "print(\"\\nMean accuracy across all folds:\")\n",
        "print(scores.mean())"
      ]
    }
  ]
}