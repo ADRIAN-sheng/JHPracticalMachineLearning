{
  "nbformat": 4,
  "nbformat_minor": 0,
  "metadata": {
    "colab": {
      "provenance": []
    },
    "kernelspec": {
      "name": "python3",
      "display_name": "Python 3"
    },
    "language_info": {
      "name": "python"
    }
  },
  "cells": [
    {
      "cell_type": "markdown",
      "source": [
        "#**Missing Value Imputation**\n",
        "\n",
        "This code imputes missing values in NUMERICAL feautures in the Titanic dataset"
      ],
      "metadata": {
        "id": "ijrApoI5q5sm"
      }
    },
    {
      "cell_type": "code",
      "execution_count": 1,
      "metadata": {
        "colab": {
          "base_uri": "https://localhost:8080/"
        },
        "id": "rr2b-63Bq4qQ",
        "outputId": "37904839-6d6a-4db1-958e-d8f7a91b96b5"
      },
      "outputs": [
        {
          "output_type": "stream",
          "name": "stdout",
          "text": [
            "\n",
            " NaNs before median imputation\n",
            "\n",
            "pclass          0\n",
            "name            0\n",
            "sex             0\n",
            "age           263\n",
            "sibsp           0\n",
            "parch           0\n",
            "ticket          0\n",
            "fare            1\n",
            "cabin        1014\n",
            "embarked        2\n",
            "boat          823\n",
            "body         1188\n",
            "home.dest     564\n",
            "dtype: int64\n",
            "\n",
            " NaNs after median imputation\n",
            "\n",
            "pclass          0\n",
            "name            0\n",
            "sex             0\n",
            "age             0\n",
            "sibsp           0\n",
            "parch           0\n",
            "ticket          0\n",
            "fare            0\n",
            "cabin        1014\n",
            "embarked        2\n",
            "boat          823\n",
            "body            0\n",
            "home.dest     564\n",
            "dtype: int64\n",
            "\n",
            " NaNs after kNN imputation\n",
            "\n",
            "pclass    0\n",
            "age       0\n",
            "sibsp     0\n",
            "parch     0\n",
            "fare      0\n",
            "body      0\n",
            "dtype: int64\n"
          ]
        }
      ],
      "source": [
        "import pandas as pd\n",
        "from sklearn.impute import KNNImputer\n",
        "from sklearn.datasets import fetch_openml\n",
        "import warnings\n",
        "\n",
        "# Suppress all warnings\n",
        "warnings.filterwarnings('ignore')\n",
        "\n",
        "# Load the Titanic dataset\n",
        "titanic = fetch_openml('titanic', version=1, as_frame=True)\n",
        "df1 = titanic.data\n",
        "df2 = titanic.data\n",
        "\n",
        "# Print NaNs at the outset\n",
        "print(\"\\n NaNs before median imputation\\n\")\n",
        "print(df1.isnull().sum())  # Check the remaining missing values\n",
        "\n",
        "\n",
        "# Impute missing values using median for numerical columns\n",
        "numerical_cols = df1.select_dtypes(include=['float64', 'int64']).columns\n",
        "df1[numerical_cols] = df1[numerical_cols].apply(lambda x: x.fillna(x.median()), axis=0)\n",
        "\n",
        "# Print NaN's after median imputation\n",
        "print(\"\\n NaNs after median imputation\\n\")\n",
        "print(df1.isnull().sum())  # Check the remaining missing values\n",
        "\n",
        "# Create the imputer object\n",
        "knn_imputer = KNNImputer(n_neighbors=5)\n",
        "\n",
        "# Since KNNImputer works with numerical data, ensure to select only numerical columns or preprocess categorical data accordingly\n",
        "df2_numerical = df2.select_dtypes(include=['float64', 'int64'])\n",
        "\n",
        "# Fit the imputer and transform the data\n",
        "imputed_data = knn_imputer.fit_transform(df2_numerical)\n",
        "\n",
        "# Convert the array back to a pandas DataFrame (optional)\n",
        "df2_imputed = pd.DataFrame(imputed_data, columns=df2_numerical.columns)\n",
        "\n",
        "# Print NaN's after median imputation\n",
        "print(\"\\n NaNs after kNN imputation\\n\")\n",
        "print(df2_imputed.isnull().sum())  # Check the remaining missing values"
      ]
    }
  ]
}