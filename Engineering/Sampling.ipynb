{
  "nbformat": 4,
  "nbformat_minor": 0,
  "metadata": {
    "colab": {
      "provenance": []
    },
    "kernelspec": {
      "name": "python3",
      "display_name": "Python 3"
    },
    "language_info": {
      "name": "python"
    }
  },
  "cells": [
    {
      "cell_type": "markdown",
      "source": [
        "#**Sampling**\n",
        "\n",
        "In the first example, we used pandas' sample function to perform a simple random sample of the data. In the second example, we used scikit-learn's train_test_split with stratification to ensure that the cities are proportionally represented in our sample. While train_test_split is typically used to split data for training and testing in machine learning models, here we repurpose it for stratified sampling by treating the subset we're interested in as a \"test\" subset.\n",
        "\n",
        "These examples require the pandas and scikit-learn libraries, so make sure you have them installed in your Python environment."
      ],
      "metadata": {
        "id": "REFGZBb-SmWK"
      }
    },
    {
      "cell_type": "code",
      "execution_count": null,
      "metadata": {
        "colab": {
          "base_uri": "https://localhost:8080/"
        },
        "id": "XRMt0MEaSiy7",
        "outputId": "1c3e180e-065b-4321-f371-2e3cc4d1b6f4"
      },
      "outputs": [
        {
          "output_type": "stream",
          "name": "stdout",
          "text": [
            "    Name  Age         City\n",
            "2  Peter   45     New York\n",
            "9  Diana   40     New York\n",
            "6    Sam   41     New York\n",
            "4  James   22  Los Angeles\n",
            "0   John   28     New York\n"
          ]
        }
      ],
      "source": [
        "import pandas as pd\n",
        "import numpy as np\n",
        "\n",
        "# Create a DataFrame to simulate our population\n",
        "data = {'Name': ['John', 'Anna', 'Peter', 'Linda', 'James', 'Laura', 'Sam', 'Monica', 'Paul', 'Diana'],\n",
        "        'Age': [28, 34, 45, 32, 22, 29, 41, 25, 33, 40],\n",
        "        'City': ['New York', 'Los Angeles', 'New York', 'Chicago', 'Los Angeles', 'Chicago', 'New York', 'Los Angeles', 'Chicago', 'New York']}\n",
        "\n",
        "df = pd.DataFrame(data)\n",
        "\n",
        "# SIMPLE RANDOM SAMPLING\n",
        "# Let's select 5 random individuals from our dataset\n",
        "sample_random = df.sample(n=5, random_state=1) # random_state for reproducibility\n",
        "\n",
        "print(sample_random)\n"
      ]
    },
    {
      "cell_type": "code",
      "source": [
        "# STRATIFIED RANDO SAMMPLING\n",
        "\n",
        "from sklearn.model_selection import train_test_split\n",
        "\n",
        "# We use the City column as the basis for stratification\n",
        "# Here, we're not actually creating a train/test split but using the function to perform stratification\n",
        "_, sample_stratified = train_test_split(df, test_size=0.5, stratify=df['City'], random_state=1) # 50% sample size, stratified by City\n",
        "\n",
        "print(sample_stratified)"
      ],
      "metadata": {
        "colab": {
          "base_uri": "https://localhost:8080/"
        },
        "id": "0Ewtcu8aSwuK",
        "outputId": "85094a9e-d3ca-40b7-c8f0-72601a4e13fe"
      },
      "execution_count": null,
      "outputs": [
        {
          "output_type": "stream",
          "name": "stdout",
          "text": [
            "     Name  Age         City\n",
            "2   Peter   45     New York\n",
            "0    John   28     New York\n",
            "3   Linda   32      Chicago\n",
            "4   James   22  Los Angeles\n",
            "7  Monica   25  Los Angeles\n"
          ]
        }
      ]
    }
  ]
}