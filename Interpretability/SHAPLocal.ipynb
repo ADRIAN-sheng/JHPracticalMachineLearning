{
  "nbformat": 4,
  "nbformat_minor": 0,
  "metadata": {
    "colab": {
      "provenance": []
    },
    "kernelspec": {
      "name": "python3",
      "display_name": "Python 3"
    },
    "language_info": {
      "name": "python"
    }
  },
  "cells": [
    {
      "cell_type": "markdown",
      "source": [
        "#**Local SHAP Values**\n",
        "\n",
        " model on the Iris dataset, compute SHAP values, and visualize the results:\n",
        "\n",
        "Local SHAP (SHapley Additive exPlanations) values explain the prediction of an individual instance by quantifying the contribution of each feature to that specific prediction. Unlike global explanations, which aim to provide an overview of the feature importances across the entire dataset, local explanations focus on understanding why a model made a particular prediction for a single data point.\n",
        "\n",
        "Background\n",
        "SHAP values are grounded in game theory and specifically in the concept of Shapley values, which offer a method for fairly distributing the payout (prediction) among players (features) based on their contribution to the game (model). In the context of machine learning models, SHAP values offer an approach to interpret the model's output by determining how much each feature contributes to the prediction, considering the interaction with other features.\n",
        "\n",
        "How Local SHAP Values Work\n",
        "For a given prediction, SHAP values provide the following insights:\n",
        "\n",
        "Baseline Prediction: This is the prediction that would be made without any knowledge of the features for the current instance. It's often the average prediction over the dataset.\n",
        "Feature Contributions: Each feature contributes positively or negatively towards moving the prediction from the baseline to the model's actual prediction for the instance. The magnitude of a SHAP value for a feature indicates the strength of its contribution, and the sign (positive or negative) shows the direction of the impact.\n",
        "Fair Attribution: The sum of all the SHAP values for a given prediction, when added to the baseline, equals the actual prediction made by the model for that instance. This property ensures that the contributions of all features are fully and fairly attributed to the prediction.\n",
        "Interpretation of Local SHAP Values\n",
        "A positive SHAP value for a feature indicates that the presence or higher value of this feature pushes the model's prediction above the baseline, possibly making the outcome more likely in classification or higher in regression.\n",
        "A negative SHAP value suggests that the feature pushes the prediction below the baseline, making the outcome less likely in classification or lower in regression.\n",
        "Applications\n",
        "Local SHAP values are particularly useful in scenarios where it's critical to understand the decision-making process behind individual predictions, such as in credit scoring, medical diagnosis, and customer churn prediction. They help in answering the question, \"Why did the model make this specific prediction for this instance?\" providing transparency and enhancing trust in the model's decisions.\n",
        "\n",
        "By offering detailed explanations for individual predictions, local SHAP values empower users to gain insights into the model's behavior at the most granular level, facilitating error analysis, debugging, and improving model fairness and accountability.\n",
        "\n",
        "#How the Code Works:#\n",
        "- The code first trains an ExtraTreesRegressor model on the Iris dataset.\n",
        "- It then uses SHAP to interpret the model, focusing both on individual predictions (local interpretability) and on the overall model behavior (global interpretability).\n",
        "- SHAP values help understand the contribution of each feature to the prediction, offering insights into the model's decision-making process."
      ],
      "metadata": {
        "id": "zqoTbhT9sosa"
      }
    },
    {
      "cell_type": "code",
      "source": [
        "!pip install shap"
      ],
      "metadata": {
        "colab": {
          "base_uri": "https://localhost:8080/"
        },
        "id": "w7P1fPMvtMBi",
        "outputId": "025bc3b9-257d-48f9-ab1b-13f632a1855b"
      },
      "execution_count": null,
      "outputs": [
        {
          "output_type": "stream",
          "name": "stdout",
          "text": [
            "Collecting shap\n",
            "  Downloading shap-0.45.0-cp310-cp310-manylinux_2_12_x86_64.manylinux2010_x86_64.manylinux_2_17_x86_64.manylinux2014_x86_64.whl (538 kB)\n",
            "\u001b[2K     \u001b[90m━━━━━━━━━━━━━━━━━━━━━━━━━━━━━━━━━━━━━━━━\u001b[0m \u001b[32m538.2/538.2 kB\u001b[0m \u001b[31m5.1 MB/s\u001b[0m eta \u001b[36m0:00:00\u001b[0m\n",
            "\u001b[?25hRequirement already satisfied: numpy in /usr/local/lib/python3.10/dist-packages (from shap) (1.25.2)\n",
            "Requirement already satisfied: scipy in /usr/local/lib/python3.10/dist-packages (from shap) (1.11.4)\n",
            "Requirement already satisfied: scikit-learn in /usr/local/lib/python3.10/dist-packages (from shap) (1.2.2)\n",
            "Requirement already satisfied: pandas in /usr/local/lib/python3.10/dist-packages (from shap) (2.0.3)\n",
            "Requirement already satisfied: tqdm>=4.27.0 in /usr/local/lib/python3.10/dist-packages (from shap) (4.66.2)\n",
            "Requirement already satisfied: packaging>20.9 in /usr/local/lib/python3.10/dist-packages (from shap) (24.0)\n",
            "Collecting slicer==0.0.7 (from shap)\n",
            "  Downloading slicer-0.0.7-py3-none-any.whl (14 kB)\n",
            "Requirement already satisfied: numba in /usr/local/lib/python3.10/dist-packages (from shap) (0.58.1)\n",
            "Requirement already satisfied: cloudpickle in /usr/local/lib/python3.10/dist-packages (from shap) (2.2.1)\n",
            "Requirement already satisfied: llvmlite<0.42,>=0.41.0dev0 in /usr/local/lib/python3.10/dist-packages (from numba->shap) (0.41.1)\n",
            "Requirement already satisfied: python-dateutil>=2.8.2 in /usr/local/lib/python3.10/dist-packages (from pandas->shap) (2.8.2)\n",
            "Requirement already satisfied: pytz>=2020.1 in /usr/local/lib/python3.10/dist-packages (from pandas->shap) (2023.4)\n",
            "Requirement already satisfied: tzdata>=2022.1 in /usr/local/lib/python3.10/dist-packages (from pandas->shap) (2024.1)\n",
            "Requirement already satisfied: joblib>=1.1.1 in /usr/local/lib/python3.10/dist-packages (from scikit-learn->shap) (1.4.0)\n",
            "Requirement already satisfied: threadpoolctl>=2.0.0 in /usr/local/lib/python3.10/dist-packages (from scikit-learn->shap) (3.4.0)\n",
            "Requirement already satisfied: six>=1.5 in /usr/local/lib/python3.10/dist-packages (from python-dateutil>=2.8.2->pandas->shap) (1.16.0)\n",
            "Installing collected packages: slicer, shap\n",
            "Successfully installed shap-0.45.0 slicer-0.0.7\n"
          ]
        }
      ]
    },
    {
      "cell_type": "code",
      "execution_count": null,
      "metadata": {
        "colab": {
          "base_uri": "https://localhost:8080/",
          "height": 1000
        },
        "id": "8IgF46MhskZe",
        "outputId": "b76cdaee-735f-4933-9e66-ea7b1dde19b1"
      },
      "outputs": [
        {
          "output_type": "stream",
          "name": "stdout",
          "text": [
            "building tree 1 of 100\n",
            "building tree 2 of 100\n",
            "building tree 3 of 100\n",
            "building tree 4 of 100\n",
            "building tree 5 of 100\n",
            "building tree 6 of 100\n",
            "building tree 7 of 100\n",
            "building tree 8 of 100\n",
            "building tree 9 of 100\n",
            "building tree 10 of 100\n",
            "building tree 11 of 100\n",
            "building tree 12 of 100\n",
            "building tree 13 of 100\n",
            "building tree 14 of 100\n",
            "building tree 15 of 100\n",
            "building tree 16 of 100\n",
            "building tree 17 of 100\n",
            "building tree 18 of 100\n",
            "building tree 19 of 100\n",
            "building tree 20 of 100\n",
            "building tree 21 of 100\n",
            "building tree 22 of 100\n",
            "building tree 23 of 100\n",
            "building tree 24 of 100\n",
            "building tree 25 of 100\n",
            "building tree 26 of 100\n",
            "building tree 27 of 100\n",
            "building tree 28 of 100\n",
            "building tree 29 of 100\n",
            "building tree 30 of 100\n",
            "building tree 31 of 100\n",
            "building tree 32 of 100\n",
            "building tree 33 of 100\n",
            "building tree 34 of 100\n",
            "building tree 35 of 100\n",
            "building tree 36 of 100\n",
            "building tree 37 of 100\n",
            "building tree 38 of 100\n",
            "building tree 39 of 100\n",
            "building tree 40 of 100\n",
            "building tree 41 of 100\n",
            "building tree 42 of 100\n",
            "building tree 43 of 100\n",
            "building tree 44 of 100\n",
            "building tree 45 of 100\n",
            "building tree 46 of 100\n",
            "building tree 47 of 100\n",
            "building tree 48 of 100\n",
            "building tree 49 of 100\n",
            "building tree 50 of 100\n",
            "building tree 51 of 100\n",
            "building tree 52 of 100\n",
            "building tree 53 of 100\n",
            "building tree 54 of 100\n",
            "building tree 55 of 100\n",
            "building tree 56 of 100\n",
            "building tree 57 of 100\n",
            "building tree 58 of 100\n",
            "building tree 59 of 100\n",
            "building tree 60 of 100\n",
            "building tree 61 of 100\n",
            "building tree 62 of 100\n",
            "building tree 63 of 100\n",
            "building tree 64 of 100\n",
            "building tree 65 of 100\n",
            "building tree 66 of 100\n",
            "building tree 67 of 100\n",
            "building tree 68 of 100\n",
            "building tree 69 of 100\n",
            "building tree 70 of 100\n",
            "building tree 71 of 100\n",
            "building tree 72 of 100\n",
            "building tree 73 of 100\n",
            "building tree 74 of 100\n",
            "building tree 75 of 100\n",
            "building tree 76 of 100\n",
            "building tree 77 of 100\n",
            "building tree 78 of 100\n",
            "building tree 79 of 100\n",
            "building tree 80 of 100\n",
            "building tree 81 of 100\n",
            "building tree 82 of 100\n",
            "building tree 83 of 100\n",
            "building tree 84 of 100\n",
            "building tree 85 of 100\n",
            "building tree 86 of 100\n",
            "building tree 87 of 100\n",
            "building tree 88 of 100\n",
            "building tree 89 of 100\n",
            "building tree 90 of 100\n",
            "building tree 91 of 100\n",
            "building tree 92 of 100\n"
          ]
        },
        {
          "output_type": "stream",
          "name": "stderr",
          "text": [
            "[Parallel(n_jobs=1)]: Done  40 tasks      | elapsed:    0.1s\n"
          ]
        },
        {
          "output_type": "stream",
          "name": "stdout",
          "text": [
            "building tree 93 of 100\n",
            "building tree 94 of 100\n",
            "building tree 95 of 100\n",
            "building tree 96 of 100\n",
            "building tree 97 of 100\n",
            "building tree 98 of 100\n",
            "building tree 99 of 100\n",
            "building tree 100 of 100\n"
          ]
        },
        {
          "output_type": "display_data",
          "data": {
            "text/plain": [
              "<Figure size 800x310 with 1 Axes>"
            ],
            "image/png": "[encoded data removed]"
          },
          "metadata": {}
        }
      ],
      "source": [
        "# Import statements\n",
        "import shap, matplotlib.pyplot as plt, pandas as pd, numpy as np\n",
        "from sklearn.ensemble import ExtraTreesRegressor\n",
        "from sklearn.datasets import make_regression\n",
        "from sklearn.model_selection import train_test_split\n",
        "from sklearn.datasets import load_iris\n",
        "\n",
        "# Load the Iris dataset\n",
        "iris = load_iris()\n",
        "X = iris.data\n",
        "y = iris.target\n",
        "\n",
        "# Convert data to pandas dataframe as in question\n",
        "X = pd.DataFrame(data=X, columns=iris.feature_names)\n",
        "X_train, X_test, y_train, y_test = train_test_split(X, y, random_state=8, test_size=0.2)\n",
        "\n",
        "## Creating model per question\n",
        "extra_tree = ExtraTreesRegressor(random_state=42, verbose=2)\n",
        "extra_tree.fit(X_train, y_train)\n",
        "\n",
        "# Create Explainer\n",
        "explainer = shap.TreeExplainer(extra_tree)\n",
        "\n",
        "# Visualize one value\n",
        "single_shap_value = explainer(X_test.sample(n=1))\n",
        "shap.summary_plot(single_shap_value, feature_names=X_test.columns, plot_type='bar')\n",
        "plt.show()\n"
      ]
    }
  ]
}