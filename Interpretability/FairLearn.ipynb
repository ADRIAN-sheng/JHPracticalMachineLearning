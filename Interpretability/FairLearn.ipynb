{
  "nbformat": 4,
  "nbformat_minor": 0,
  "metadata": {
    "colab": {
      "provenance": []
    },
    "kernelspec": {
      "name": "python3",
      "display_name": "Python 3"
    },
    "language_info": {
      "name": "python"
    }
  },
  "cells": [
    {
      "cell_type": "markdown",
      "source": [
        "#**FairLearn Code Snippet**\n",
        "\n",
        "Fairlearn is an open-source, Python package that aims to help data scientists improve fairness in machine learning models. It provides algorithms and tools to assess and mitigate unfairness in models. While Fairlearn does not offer a specific \"Fairlearn Logistic Regression Classifier\" out of the box, you can use Fairlearn's tools alongside scikit-learn's LogisticRegression to assess and mitigate bias.\n",
        "\n",
        "Here's a simple example to demonstrate how you can use Fairlearn with a logistic regression classifier from scikit-learn. This example will involve the following steps:\n",
        "- Load a dataset and split it into features and target.\n",
        "- Train a standard logistic regression model.\n",
        "- Use Fairlearn's MetricFrame to assess fairness-related metrics on the model's predictions.\n",
        "- Apply a mitigation technique from Fairlearn to reduce bias."
      ],
      "metadata": {
        "id": "d2mfSwUBP0nJ"
      }
    },
    {
      "cell_type": "code",
      "source": [
        "pip install scikit-learn fairlearn\n"
      ],
      "metadata": {
        "colab": {
          "base_uri": "https://localhost:8080/"
        },
        "id": "972bZG0nPxcb",
        "outputId": "1d7088e9-eba9-4225-8f98-e7465957c0d0"
      },
      "execution_count": null,
      "outputs": [
        {
          "output_type": "stream",
          "name": "stdout",
          "text": [
            "Requirement already satisfied: scikit-learn in /usr/local/lib/python3.10/dist-packages (1.2.2)\n",
            "Requirement already satisfied: fairlearn in /usr/local/lib/python3.10/dist-packages (0.10.0)\n",
            "Requirement already satisfied: numpy>=1.17.3 in /usr/local/lib/python3.10/dist-packages (from scikit-learn) (1.25.2)\n",
            "Requirement already satisfied: scipy>=1.3.2 in /usr/local/lib/python3.10/dist-packages (from scikit-learn) (1.11.4)\n",
            "Requirement already satisfied: joblib>=1.1.1 in /usr/local/lib/python3.10/dist-packages (from scikit-learn) (1.4.0)\n",
            "Requirement already satisfied: threadpoolctl>=2.0.0 in /usr/local/lib/python3.10/dist-packages (from scikit-learn) (3.4.0)\n",
            "Requirement already satisfied: pandas>=2.0.3 in /usr/local/lib/python3.10/dist-packages (from fairlearn) (2.0.3)\n",
            "Requirement already satisfied: python-dateutil>=2.8.2 in /usr/local/lib/python3.10/dist-packages (from pandas>=2.0.3->fairlearn) (2.8.2)\n",
            "Requirement already satisfied: pytz>=2020.1 in /usr/local/lib/python3.10/dist-packages (from pandas>=2.0.3->fairlearn) (2023.4)\n",
            "Requirement already satisfied: tzdata>=2022.1 in /usr/local/lib/python3.10/dist-packages (from pandas>=2.0.3->fairlearn) (2024.1)\n",
            "Requirement already satisfied: six>=1.5 in /usr/local/lib/python3.10/dist-packages (from python-dateutil>=2.8.2->pandas>=2.0.3->fairlearn) (1.16.0)\n"
          ]
        }
      ]
    },
    {
      "cell_type": "code",
      "source": [
        "from sklearn.datasets import fetch_openml\n",
        "from sklearn.model_selection import train_test_split\n",
        "from sklearn.linear_model import LogisticRegression\n",
        "from fairlearn.metrics import MetricFrame, selection_rate\n",
        "from sklearn.metrics import accuracy_score\n",
        "from fairlearn.postprocessing import ThresholdOptimizer\n",
        "from sklearn.preprocessing import StandardScaler\n",
        "import pandas as pd\n",
        "\n",
        "# Load a dataset\n",
        "X, y = fetch_openml(data_id=1590, as_frame=True, return_X_y=True)  # Adult census dataset\n",
        "y = (y == '>50K').astype(int)  # Binary encoding of the target\n",
        "\n",
        "# Assume the sensitive feature is one of the columns, e.g., 'sex' or 'race'. Adjust accordingly.\n",
        "sensitive_feature_name = 'sex'\n",
        "\n",
        "# Ensure the sensitive feature is included before scaling\n",
        "sensitive_feature = X[[sensitive_feature_name]]\n",
        "\n",
        "# Preprocessing\n",
        "scaler = StandardScaler()\n",
        "X_scaled = pd.DataFrame(scaler.fit_transform(X.select_dtypes(include=['float64', 'int64'])), columns=X.select_dtypes(include=['float64', 'int64']).columns)\n",
        "\n",
        "# Split the dataset into training and test sets\n",
        "X_train, X_test, y_train, y_test, sensitive_feature_train, sensitive_feature_test = train_test_split(X_scaled, y, sensitive_feature, test_size=0.3, random_state=42)\n",
        "\n",
        "# Train a logistic regression model\n",
        "lr = LogisticRegression(max_iter=10000)\n",
        "lr.fit(X_train, y_train)\n",
        "\n",
        "# Predictions\n",
        "y_pred = lr.predict(X_test)\n",
        "\n",
        "# Assess fairness using MetricFrame\n",
        "print('Original Metrics BEFORE Bias Mitigation\\n')\n",
        "mf = MetricFrame(metrics={'accuracy': accuracy_score, 'selection_rate': selection_rate},\n",
        "                 y_true=y_test,\n",
        "                 y_pred=y_pred,\n",
        "                 sensitive_features=sensitive_feature_test[sensitive_feature_name])\n",
        "\n",
        "print(mf.by_group)\n",
        "\n",
        "# Mitigate bias using ThresholdOptimizer\n",
        "postprocessor = ThresholdOptimizer(estimator=lr, constraints=\"equalized_odds\", prefit=True)\n",
        "postprocessor.fit(X_train, y_train, sensitive_features=sensitive_feature_train[sensitive_feature_name])\n",
        "\n",
        "# Adjusted predictions\n",
        "y_pred_adj = postprocessor.predict(X_test, sensitive_features=sensitive_feature_test[sensitive_feature_name])\n",
        "\n",
        "# Re-evaluate fairness\n",
        "print('Original Metrics AFTER Bias Mitigation\\n')\n",
        "mf_adj = MetricFrame(metrics={'accuracy': accuracy_score, 'selection_rate': selection_rate},\n",
        "                     y_true=y_test,\n",
        "                     y_pred=y_pred_adj,\n",
        "                     sensitive_features=sensitive_feature_test[sensitive_feature_name])\n",
        "\n",
        "print(mf_adj.by_group)\n"
      ],
      "metadata": {
        "colab": {
          "base_uri": "https://localhost:8080/"
        },
        "id": "oS0I7n2FQA9L",
        "outputId": "090f47b0-0d19-434d-986e-52b3b9a80e74"
      },
      "execution_count": null,
      "outputs": [
        {
          "output_type": "stream",
          "name": "stderr",
          "text": [
            "/usr/local/lib/python3.10/dist-packages/sklearn/datasets/_openml.py:968: FutureWarning: The default value of `parser` will change from `'liac-arff'` to `'auto'` in 1.4. You can set `parser='auto'` to silence this warning. Therefore, an `ImportError` will be raised from 1.4 if the dataset is dense and pandas is not installed. Note that the pandas parser may return different data types. See the Notes Section in fetch_openml's API doc for details.\n",
            "  warn(\n"
          ]
        },
        {
          "output_type": "stream",
          "name": "stdout",
          "text": [
            "Original Metrics BEFORE Bias Mitigation\n",
            "\n",
            "        accuracy  selection_rate\n",
            "sex                             \n",
            "Female  0.897959        0.071325\n",
            "Male    0.780249        0.160477\n"
          ]
        },
        {
          "output_type": "stream",
          "name": "stderr",
          "text": [
            "/usr/local/lib/python3.10/dist-packages/fairlearn/postprocessing/_threshold_optimizer.py:288: FutureWarning: 'predict_method' default value is changed from 'predict' to 'auto'. Explicitly pass `predict_method='predict' to replicate the old behavior, or pass `predict_method='auto' or other valid values to silence this warning.\n",
            "  warn(\n"
          ]
        },
        {
          "output_type": "stream",
          "name": "stdout",
          "text": [
            "Original Metrics AFTER Bias Mitigation\n",
            "\n",
            "        accuracy  selection_rate\n",
            "sex                             \n",
            "Female  0.891569         0.08019\n",
            "Male    0.776576         0.15150\n"
          ]
        }
      ]
    }
  ]
}